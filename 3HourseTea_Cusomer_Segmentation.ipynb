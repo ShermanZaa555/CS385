{
  "nbformat": 4,
  "nbformat_minor": 0,
  "metadata": {
    "colab": {
      "name": "3HourseTea_Cusomer-Segmentation.ipynb",
      "provenance": [],
      "authorship_tag": "ABX9TyPvmOgaNIBXQEMWisq+lQCT",
      "include_colab_link": true
    },
    "kernelspec": {
      "name": "python3",
      "display_name": "Python 3"
    },
    "language_info": {
      "name": "python"
    }
  },
  "cells": [
    {
      "cell_type": "markdown",
      "metadata": {
        "id": "view-in-github",
        "colab_type": "text"
      },
      "source": [
        "<a href=\"https://colab.research.google.com/github/ShermanZaa555/CS385_project/blob/main/3HourseTea_Cusomer_Segmentation.ipynb\" target=\"_parent\"><img src=\"https://colab.research.google.com/assets/colab-badge.svg\" alt=\"Open In Colab\"/></a>"
      ]
    },
    {
      "cell_type": "code",
      "source": [
        "!python /content/CustomerSegmentationprogram/main.py"
      ],
      "metadata": {
        "colab": {
          "base_uri": "https://localhost:8080/"
        },
        "id": "5P8fc0OssfeX",
        "outputId": "f6cd711d-8762-4873-8340-9dd25bf7e131"
      },
      "execution_count": 5,
      "outputs": [
        {
          "output_type": "stream",
          "name": "stdout",
          "text": [
            "Enter : \n",
            "5\n",
            "5\n"
          ]
        }
      ]
    }
  ]
}